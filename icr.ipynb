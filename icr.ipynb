{
 "cells": [
  {
   "cell_type": "code",
   "execution_count": 1,
   "id": "091cbc9d",
   "metadata": {
    "_cell_guid": "b1076dfc-b9ad-4769-8c92-a6c4dae69d19",
    "_uuid": "8f2839f25d086af736a60e9eeb907d3b93b6e0e5",
    "execution": {
     "iopub.execute_input": "2023-06-24T12:23:30.222351Z",
     "iopub.status.busy": "2023-06-24T12:23:30.221373Z",
     "iopub.status.idle": "2023-06-24T12:24:02.378468Z",
     "shell.execute_reply": "2023-06-24T12:24:02.377339Z"
    },
    "papermill": {
     "duration": 32.165927,
     "end_time": "2023-06-24T12:24:02.380834",
     "exception": false,
     "start_time": "2023-06-24T12:23:30.214907",
     "status": "completed"
    },
    "tags": []
   },
   "outputs": [
    {
     "name": "stdout",
     "output_type": "stream",
     "text": [
      "Processing /kaggle/input/tabpfn-019-whl/tabpfn-0.1.9-py3-none-any.whl\r\n",
      "Requirement already satisfied: numpy>=1.21.2 in /opt/conda/lib/python3.10/site-packages (from tabpfn==0.1.9) (1.23.5)\r\n",
      "Requirement already satisfied: pyyaml>=5.4.1 in /opt/conda/lib/python3.10/site-packages (from tabpfn==0.1.9) (5.4.1)\r\n",
      "Requirement already satisfied: requests>=2.23.0 in /opt/conda/lib/python3.10/site-packages (from tabpfn==0.1.9) (2.28.2)\r\n",
      "Requirement already satisfied: scikit-learn>=0.24.2 in /opt/conda/lib/python3.10/site-packages (from tabpfn==0.1.9) (1.2.2)\r\n",
      "Requirement already satisfied: torch>=1.9.0 in /opt/conda/lib/python3.10/site-packages (from tabpfn==0.1.9) (2.0.0)\r\n",
      "Requirement already satisfied: charset-normalizer<4,>=2 in /opt/conda/lib/python3.10/site-packages (from requests>=2.23.0->tabpfn==0.1.9) (2.1.1)\r\n",
      "Requirement already satisfied: idna<4,>=2.5 in /opt/conda/lib/python3.10/site-packages (from requests>=2.23.0->tabpfn==0.1.9) (3.4)\r\n",
      "Requirement already satisfied: urllib3<1.27,>=1.21.1 in /opt/conda/lib/python3.10/site-packages (from requests>=2.23.0->tabpfn==0.1.9) (1.26.15)\r\n",
      "Requirement already satisfied: certifi>=2017.4.17 in /opt/conda/lib/python3.10/site-packages (from requests>=2.23.0->tabpfn==0.1.9) (2023.5.7)\r\n",
      "Requirement already satisfied: scipy>=1.3.2 in /opt/conda/lib/python3.10/site-packages (from scikit-learn>=0.24.2->tabpfn==0.1.9) (1.10.1)\r\n",
      "Requirement already satisfied: joblib>=1.1.1 in /opt/conda/lib/python3.10/site-packages (from scikit-learn>=0.24.2->tabpfn==0.1.9) (1.2.0)\r\n",
      "Requirement already satisfied: threadpoolctl>=2.0.0 in /opt/conda/lib/python3.10/site-packages (from scikit-learn>=0.24.2->tabpfn==0.1.9) (3.1.0)\r\n",
      "Requirement already satisfied: filelock in /opt/conda/lib/python3.10/site-packages (from torch>=1.9.0->tabpfn==0.1.9) (3.12.0)\r\n",
      "Requirement already satisfied: typing-extensions in /opt/conda/lib/python3.10/site-packages (from torch>=1.9.0->tabpfn==0.1.9) (4.5.0)\r\n",
      "Requirement already satisfied: sympy in /opt/conda/lib/python3.10/site-packages (from torch>=1.9.0->tabpfn==0.1.9) (1.12)\r\n",
      "Requirement already satisfied: networkx in /opt/conda/lib/python3.10/site-packages (from torch>=1.9.0->tabpfn==0.1.9) (3.1)\r\n",
      "Requirement already satisfied: jinja2 in /opt/conda/lib/python3.10/site-packages (from torch>=1.9.0->tabpfn==0.1.9) (3.1.2)\r\n",
      "Requirement already satisfied: MarkupSafe>=2.0 in /opt/conda/lib/python3.10/site-packages (from jinja2->torch>=1.9.0->tabpfn==0.1.9) (2.1.2)\r\n",
      "Requirement already satisfied: mpmath>=0.19 in /opt/conda/lib/python3.10/site-packages (from sympy->torch>=1.9.0->tabpfn==0.1.9) (1.3.0)\r\n",
      "Installing collected packages: tabpfn\r\n",
      "Successfully installed tabpfn-0.1.9\r\n",
      "\u001b[33mWARNING: Running pip as the 'root' user can result in broken permissions and conflicting behaviour with the system package manager. It is recommended to use a virtual environment instead: https://pip.pypa.io/warnings/venv\u001b[0m\u001b[33m\r\n",
      "\u001b[0m"
     ]
    }
   ],
   "source": [
    "!pip install /kaggle/input/tabpfn-019-whl/tabpfn-0.1.9-py3-none-any.whl"
   ]
  },
  {
   "cell_type": "code",
   "execution_count": 2,
   "id": "724055a8",
   "metadata": {
    "execution": {
     "iopub.execute_input": "2023-06-24T12:24:02.392650Z",
     "iopub.status.busy": "2023-06-24T12:24:02.392327Z",
     "iopub.status.idle": "2023-06-24T12:24:05.700499Z",
     "shell.execute_reply": "2023-06-24T12:24:05.699250Z"
    },
    "papermill": {
     "duration": 3.316829,
     "end_time": "2023-06-24T12:24:05.703053",
     "exception": false,
     "start_time": "2023-06-24T12:24:02.386224",
     "status": "completed"
    },
    "tags": []
   },
   "outputs": [],
   "source": [
    "!mkdir /opt/conda/lib/python3.10/site-packages/tabpfn/models_diff\n",
    "!cp /kaggle/input/tabpfn-019-whl/prior_diff_real_checkpoint_n_0_epoch_100.cpkt /opt/conda/lib/python3.10/site-packages/tabpfn/models_diff/"
   ]
  },
  {
   "cell_type": "code",
   "execution_count": 3,
   "id": "fd6914dd",
   "metadata": {
    "execution": {
     "iopub.execute_input": "2023-06-24T12:24:05.714920Z",
     "iopub.status.busy": "2023-06-24T12:24:05.714056Z",
     "iopub.status.idle": "2023-06-24T12:24:05.719536Z",
     "shell.execute_reply": "2023-06-24T12:24:05.718738Z"
    },
    "papermill": {
     "duration": 0.013619,
     "end_time": "2023-06-24T12:24:05.721628",
     "exception": false,
     "start_time": "2023-06-24T12:24:05.708009",
     "status": "completed"
    },
    "tags": []
   },
   "outputs": [],
   "source": [
    "import numpy as np\n",
    "import pandas as pd\n",
    "import json\n",
    "\n",
    "\n",
    "pd.set_option('display.max_columns', None)\n",
    "pd.set_option('display.max_rows', None)"
   ]
  },
  {
   "cell_type": "code",
   "execution_count": 4,
   "id": "be1b0114",
   "metadata": {
    "execution": {
     "iopub.execute_input": "2023-06-24T12:24:05.732611Z",
     "iopub.status.busy": "2023-06-24T12:24:05.732058Z",
     "iopub.status.idle": "2023-06-24T12:24:05.777772Z",
     "shell.execute_reply": "2023-06-24T12:24:05.776929Z"
    },
    "papermill": {
     "duration": 0.053397,
     "end_time": "2023-06-24T12:24:05.779701",
     "exception": false,
     "start_time": "2023-06-24T12:24:05.726304",
     "status": "completed"
    },
    "tags": []
   },
   "outputs": [],
   "source": [
    "BASE_DIR = '/kaggle/input/icr-identify-age-related-conditions'\n",
    "# Import data directly as H2O frame\n",
    "maindf = pd.read_csv(f'{BASE_DIR}/train.csv')\n",
    "greeksdf = pd.read_csv(f'{BASE_DIR}/greeks.csv')\n",
    "testdf = pd.read_csv(f'{BASE_DIR}/test.csv')"
   ]
  },
  {
   "cell_type": "code",
   "execution_count": 5,
   "id": "23232bcd",
   "metadata": {
    "execution": {
     "iopub.execute_input": "2023-06-24T12:24:05.790734Z",
     "iopub.status.busy": "2023-06-24T12:24:05.789915Z",
     "iopub.status.idle": "2023-06-24T12:24:05.801677Z",
     "shell.execute_reply": "2023-06-24T12:24:05.800737Z"
    },
    "papermill": {
     "duration": 0.019149,
     "end_time": "2023-06-24T12:24:05.803685",
     "exception": false,
     "start_time": "2023-06-24T12:24:05.784536",
     "status": "completed"
    },
    "tags": []
   },
   "outputs": [],
   "source": [
    "first_cat = maindf.EJ.unique()[0]\n",
    "maindf.EJ = maindf.EJ.eq(first_cat).astype('int')\n",
    "testdf.EJ = testdf.EJ.eq(first_cat).astype('int')"
   ]
  },
  {
   "cell_type": "code",
   "execution_count": 6,
   "id": "6fcb46f4",
   "metadata": {
    "execution": {
     "iopub.execute_input": "2023-06-24T12:24:05.814664Z",
     "iopub.status.busy": "2023-06-24T12:24:05.813846Z",
     "iopub.status.idle": "2023-06-24T12:24:11.152348Z",
     "shell.execute_reply": "2023-06-24T12:24:11.151258Z"
    },
    "papermill": {
     "duration": 5.346683,
     "end_time": "2023-06-24T12:24:11.154921",
     "exception": false,
     "start_time": "2023-06-24T12:24:05.808238",
     "status": "completed"
    },
    "tags": []
   },
   "outputs": [],
   "source": [
    "from sklearn.base import BaseEstimator\n",
    "from sklearn.ensemble import RandomForestClassifier\n",
    "from sklearn.neural_network import MLPClassifier\n",
    "from sklearn.impute import SimpleImputer\n",
    "from catboost import Pool, CatBoostClassifier\n",
    "import xgboost\n",
    "from tabpfn import TabPFNClassifier"
   ]
  },
  {
   "cell_type": "code",
   "execution_count": 7,
   "id": "0fc28c09",
   "metadata": {
    "execution": {
     "iopub.execute_input": "2023-06-24T12:24:11.166293Z",
     "iopub.status.busy": "2023-06-24T12:24:11.165737Z",
     "iopub.status.idle": "2023-06-24T12:24:11.175901Z",
     "shell.execute_reply": "2023-06-24T12:24:11.175123Z"
    },
    "papermill": {
     "duration": 0.018045,
     "end_time": "2023-06-24T12:24:11.177924",
     "exception": false,
     "start_time": "2023-06-24T12:24:11.159879",
     "status": "completed"
    },
    "tags": []
   },
   "outputs": [],
   "source": [
    "class WeightedEns(BaseEstimator):\n",
    "    def __init__(self):\n",
    "        self.classifiers = [xgboost.XGBClassifier(),TabPFNClassifier(N_ensemble_configurations=64,device='cpu')]\n",
    "        self.imp = SimpleImputer(missing_values=np.nan, strategy='median')\n",
    "    \n",
    "    def fit(self, X, y):\n",
    "        cls, y = np.unique(y, return_inverse=True)\n",
    "        self.classes_ = cls\n",
    "        X = self.imp.fit_transform(X)\n",
    "        for cl in self.classifiers:\n",
    "            cl.fit(X,y)\n",
    "    \n",
    "    def predict_proba(self, X):\n",
    "        X = self.imp.transform(X)\n",
    "        ps = np.stack([cl.predict_proba(X) for cl in self.classifiers])\n",
    "        p = np.mean(ps,axis=0)\n",
    "        class_0_est_instances = p[:,0].sum()\n",
    "        others_est_instances = p[:,1:].sum()\n",
    "        # we reweight the probs, since the loss is also balanced like this\n",
    "        # our models out of the box optimize CE\n",
    "        # with these changes they optimize balanced CE\n",
    "        new_p = p * np.array([[1/(class_0_est_instances if i==0 else others_est_instances) for i in range(p.shape[1])]])\n",
    "        return new_p / np.sum(new_p,axis=1,keepdims=1)"
   ]
  },
  {
   "cell_type": "code",
   "execution_count": 8,
   "id": "7a316236",
   "metadata": {
    "execution": {
     "iopub.execute_input": "2023-06-24T12:24:11.188731Z",
     "iopub.status.busy": "2023-06-24T12:24:11.187987Z",
     "iopub.status.idle": "2023-06-24T12:24:11.207920Z",
     "shell.execute_reply": "2023-06-24T12:24:11.207151Z"
    },
    "papermill": {
     "duration": 0.027266,
     "end_time": "2023-06-24T12:24:11.209908",
     "exception": false,
     "start_time": "2023-06-24T12:24:11.182642",
     "status": "completed"
    },
    "tags": []
   },
   "outputs": [],
   "source": [
    "from datetime import date, datetime\n",
    "times = greeksdf.Epsilon.copy()\n",
    "times[greeksdf.Epsilon != 'Unknown'] = greeksdf.Epsilon[greeksdf.Epsilon != 'Unknown'].map(lambda x: datetime.strptime(x,'%m/%d/%Y').toordinal())\n",
    "times[greeksdf.Epsilon == 'Unknown'] = np.nan"
   ]
  },
  {
   "cell_type": "code",
   "execution_count": 9,
   "id": "8ccc1d78",
   "metadata": {
    "execution": {
     "iopub.execute_input": "2023-06-24T12:24:11.221075Z",
     "iopub.status.busy": "2023-06-24T12:24:11.220334Z",
     "iopub.status.idle": "2023-06-24T12:24:11.225107Z",
     "shell.execute_reply": "2023-06-24T12:24:11.224211Z"
    },
    "papermill": {
     "duration": 0.012104,
     "end_time": "2023-06-24T12:24:11.227010",
     "exception": false,
     "start_time": "2023-06-24T12:24:11.214906",
     "status": "completed"
    },
    "tags": []
   },
   "outputs": [],
   "source": [
    "# Set predictor and target columns\n",
    "target = 'Class'\n",
    "predictors = [n for n in maindf.columns if n != target and n != 'Id']"
   ]
  },
  {
   "cell_type": "code",
   "execution_count": 10,
   "id": "d6a74f9a",
   "metadata": {
    "execution": {
     "iopub.execute_input": "2023-06-24T12:24:11.237293Z",
     "iopub.status.busy": "2023-06-24T12:24:11.236999Z",
     "iopub.status.idle": "2023-06-24T12:24:11.246011Z",
     "shell.execute_reply": "2023-06-24T12:24:11.245041Z"
    },
    "papermill": {
     "duration": 0.017174,
     "end_time": "2023-06-24T12:24:11.248734",
     "exception": false,
     "start_time": "2023-06-24T12:24:11.231560",
     "status": "completed"
    },
    "tags": []
   },
   "outputs": [
    {
     "name": "stderr",
     "output_type": "stream",
     "text": [
      "/tmp/ipykernel_23/1600532645.py:1: FutureWarning: In a future version of pandas all arguments of concat except for the argument 'objs' will be keyword-only.\n",
      "  pred_and_time = pd.concat((maindf[predictors], times), 1)\n"
     ]
    }
   ],
   "source": [
    "pred_and_time = pd.concat((maindf[predictors], times), 1)\n"
   ]
  },
  {
   "cell_type": "code",
   "execution_count": 11,
   "id": "eb5f79f2",
   "metadata": {
    "execution": {
     "iopub.execute_input": "2023-06-24T12:24:11.259310Z",
     "iopub.status.busy": "2023-06-24T12:24:11.259050Z",
     "iopub.status.idle": "2023-06-24T12:24:11.266147Z",
     "shell.execute_reply": "2023-06-24T12:24:11.265364Z"
    },
    "papermill": {
     "duration": 0.014373,
     "end_time": "2023-06-24T12:24:11.267995",
     "exception": false,
     "start_time": "2023-06-24T12:24:11.253622",
     "status": "completed"
    },
    "tags": []
   },
   "outputs": [],
   "source": [
    "test_predictors = np.array(testdf[predictors])\n",
    "test_pred_and_time = np.concatenate((test_predictors, np.zeros((len(test_predictors),1)) + pred_and_time.Epsilon.max()+1),1)\n"
   ]
  },
  {
   "cell_type": "code",
   "execution_count": 12,
   "id": "503c9006",
   "metadata": {
    "execution": {
     "iopub.execute_input": "2023-06-24T12:24:11.279076Z",
     "iopub.status.busy": "2023-06-24T12:24:11.278329Z",
     "iopub.status.idle": "2023-06-24T12:25:03.949154Z",
     "shell.execute_reply": "2023-06-24T12:25:03.948073Z"
    },
    "papermill": {
     "duration": 52.678569,
     "end_time": "2023-06-24T12:25:03.951502",
     "exception": false,
     "start_time": "2023-06-24T12:24:11.272933",
     "status": "completed"
    },
    "tags": []
   },
   "outputs": [
    {
     "name": "stdout",
     "output_type": "stream",
     "text": [
      "Loading model that can be used for inference only\n",
      "Using a Transformer with 25.82 M parameters\n"
     ]
    }
   ],
   "source": [
    "m = WeightedEns()\n",
    "m.fit(np.array(pred_and_time),np.array(greeksdf['Alpha']))\n",
    "p = m.predict_proba(test_pred_and_time)\n",
    "assert (m.classes_[0] == 'A')\n",
    "p = np.concatenate((p[:,:1],np.sum(p[:,1:],1,keepdims=True)), 1)\n",
    "p0 = p[:,:1]\n",
    "p0[p0 > 0.863] = 1\n",
    "p0[p0 < 0.137] = 0\n",
    "submit=pd.DataFrame(testdf[\"Id\"], columns=[\"Id\"])\n",
    "submit[\"class_0\"] = p0\n",
    "submit[\"class_1\"] = 1 - p0\n",
    "submit.to_csv('submission.csv',index=False)"
   ]
  },
  {
   "cell_type": "code",
   "execution_count": 13,
   "id": "26180d12",
   "metadata": {
    "execution": {
     "iopub.execute_input": "2023-06-24T12:25:03.963907Z",
     "iopub.status.busy": "2023-06-24T12:25:03.963599Z",
     "iopub.status.idle": "2023-06-24T12:25:03.978923Z",
     "shell.execute_reply": "2023-06-24T12:25:03.978075Z"
    },
    "papermill": {
     "duration": 0.024085,
     "end_time": "2023-06-24T12:25:03.980980",
     "exception": false,
     "start_time": "2023-06-24T12:25:03.956895",
     "status": "completed"
    },
    "tags": []
   },
   "outputs": [
    {
     "data": {
      "text/html": [
       "<div>\n",
       "<style scoped>\n",
       "    .dataframe tbody tr th:only-of-type {\n",
       "        vertical-align: middle;\n",
       "    }\n",
       "\n",
       "    .dataframe tbody tr th {\n",
       "        vertical-align: top;\n",
       "    }\n",
       "\n",
       "    .dataframe thead th {\n",
       "        text-align: right;\n",
       "    }\n",
       "</style>\n",
       "<table border=\"1\" class=\"dataframe\">\n",
       "  <thead>\n",
       "    <tr style=\"text-align: right;\">\n",
       "      <th></th>\n",
       "      <th>Id</th>\n",
       "      <th>class_0</th>\n",
       "      <th>class_1</th>\n",
       "    </tr>\n",
       "  </thead>\n",
       "  <tbody>\n",
       "    <tr>\n",
       "      <th>0</th>\n",
       "      <td>00eed32682bb</td>\n",
       "      <td>0.5</td>\n",
       "      <td>0.5</td>\n",
       "    </tr>\n",
       "    <tr>\n",
       "      <th>1</th>\n",
       "      <td>010ebe33f668</td>\n",
       "      <td>0.5</td>\n",
       "      <td>0.5</td>\n",
       "    </tr>\n",
       "    <tr>\n",
       "      <th>2</th>\n",
       "      <td>02fa521e1838</td>\n",
       "      <td>0.5</td>\n",
       "      <td>0.5</td>\n",
       "    </tr>\n",
       "    <tr>\n",
       "      <th>3</th>\n",
       "      <td>040e15f562a2</td>\n",
       "      <td>0.5</td>\n",
       "      <td>0.5</td>\n",
       "    </tr>\n",
       "    <tr>\n",
       "      <th>4</th>\n",
       "      <td>046e85c7cc7f</td>\n",
       "      <td>0.5</td>\n",
       "      <td>0.5</td>\n",
       "    </tr>\n",
       "  </tbody>\n",
       "</table>\n",
       "</div>"
      ],
      "text/plain": [
       "             Id  class_0  class_1\n",
       "0  00eed32682bb      0.5      0.5\n",
       "1  010ebe33f668      0.5      0.5\n",
       "2  02fa521e1838      0.5      0.5\n",
       "3  040e15f562a2      0.5      0.5\n",
       "4  046e85c7cc7f      0.5      0.5"
      ]
     },
     "execution_count": 13,
     "metadata": {},
     "output_type": "execute_result"
    }
   ],
   "source": [
    "submit"
   ]
  },
  {
   "cell_type": "code",
   "execution_count": null,
   "id": "a1ceb29a",
   "metadata": {
    "papermill": {
     "duration": 0.005031,
     "end_time": "2023-06-24T12:25:03.991096",
     "exception": false,
     "start_time": "2023-06-24T12:25:03.986065",
     "status": "completed"
    },
    "tags": []
   },
   "outputs": [],
   "source": []
  }
 ],
 "metadata": {
  "kernelspec": {
   "display_name": "Python 3",
   "language": "python",
   "name": "python3"
  },
  "language_info": {
   "codemirror_mode": {
    "name": "ipython",
    "version": 3
   },
   "file_extension": ".py",
   "mimetype": "text/x-python",
   "name": "python",
   "nbconvert_exporter": "python",
   "pygments_lexer": "ipython3",
   "version": "3.10.10"
  },
  "papermill": {
   "default_parameters": {},
   "duration": 106.551725,
   "end_time": "2023-06-24T12:25:05.618970",
   "environment_variables": {},
   "exception": null,
   "input_path": "__notebook__.ipynb",
   "output_path": "__notebook__.ipynb",
   "parameters": {},
   "start_time": "2023-06-24T12:23:19.067245",
   "version": "2.4.0"
  }
 },
 "nbformat": 4,
 "nbformat_minor": 5
}
